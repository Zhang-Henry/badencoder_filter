{
 "cells": [
  {
   "cell_type": "code",
   "execution_count": 8,
   "metadata": {},
   "outputs": [],
   "source": [
    "import sys\n",
    "sys.path.append(\"..\")\n",
    "\n",
    "import torch\n",
    "from torchvision import transforms\n",
    "from torch.utils.data import DataLoader, ConcatDataset\n",
    "from datasets.backdoor_dataset import CIFAR10M,CustomDataset_224,CIFAR10Mem\n",
    "import numpy as np\n",
    "from datasets.bd_dataset_imagenet_filter import BadEncoderDataset\n",
    "\n",
    "torch.cuda.set_device(2)\n",
    "\n",
    "def dataloader(dataset):\n",
    "    batch_size=512\n",
    "    classes = ['airplane', 'automobile', 'bird', 'cat', 'deer', 'dog', 'frog', 'horse', 'ship', 'truck']\n",
    "    train_transform = transforms.Compose([\n",
    "        transforms.RandomResizedCrop(32),\n",
    "        transforms.RandomHorizontalFlip(p=0.5),\n",
    "        transforms.RandomApply([transforms.ColorJitter(0.4, 0.4, 0.4, 0.1)], p=0.8),\n",
    "        transforms.RandomGrayscale(p=0.2),\n",
    "        transforms.ToTensor(),\n",
    "        transforms.Normalize([0.4914, 0.4822, 0.4465], [0.2023, 0.1994, 0.2010])\n",
    "        ])\n",
    "\n",
    "    clean_transform=transforms.Compose([\n",
    "                transforms.ToTensor(),\n",
    "                transforms.Normalize([0.4914, 0.4822, 0.4465], [0.2023, 0.1994, 0.2010])\n",
    "                ])\n",
    "\n",
    "    memory_data = CIFAR10M(numpy_file=f'../data/{dataset}/train.npz', class_type=classes, transform=train_transform,transform2=clean_transform)\n",
    "    train_loader = DataLoader(memory_data, batch_size=batch_size, shuffle=True, num_workers=2, pin_memory=True)\n",
    "\n",
    "    test_data = CIFAR10M(numpy_file=f'../data/{dataset}/test.npz', class_type=classes, transform=train_transform,transform2=clean_transform)\n",
    "    test_loader = DataLoader(test_data, batch_size=batch_size, shuffle=True, num_workers=2, pin_memory=True)\n",
    "\n",
    "    return train_loader,test_loader"
   ]
  },
  {
   "cell_type": "code",
   "execution_count": 17,
   "metadata": {},
   "outputs": [],
   "source": [
    "import torch.nn.functional as F\n",
    "import os,random,copy\n",
    "import kornia.augmentation as A\n",
    "\n",
    "import torchvision.models as models\n",
    "import torch.nn as nn\n",
    "import torch.optim as optim\n",
    "from torchvision.transforms import transforms\n",
    "from tqdm import tqdm\n",
    "from sklearn.metrics import f1_score, roc_auc_score\n",
    "\n",
    "class ProbTransform(torch.nn.Module):\n",
    "    def __init__(self, f, p=1):\n",
    "        super(ProbTransform, self).__init__()\n",
    "        self.f = f\n",
    "        self.p = p\n",
    "\n",
    "    def forward(self, x):  # , **kwargs):\n",
    "        if random.random() < self.p:\n",
    "            return self.f(x)\n",
    "        else:\n",
    "            return x\n",
    "\n",
    "\n",
    "class PostTensorTransform(torch.nn.Module):\n",
    "    def __init__(self):\n",
    "        super(PostTensorTransform, self).__init__()\n",
    "        self.random_crop = ProbTransform(\n",
    "            A.RandomCrop((32, 32), padding=5), p=0.8\n",
    "        )\n",
    "        self.random_rotation = ProbTransform(A.RandomRotation(10), p=0.5)\n",
    "\n",
    "\n",
    "    def forward(self, x):\n",
    "        for module in self.children():\n",
    "            x = module(x)\n",
    "        return x\n",
    "\n",
    "\n",
    "def wanet(clean_img):\n",
    "    input_height=32\n",
    "    grid_rescale=1\n",
    "    s=0.5\n",
    "    k=4\n",
    "    num_bd = clean_img.shape[0] // 2\n",
    "    num_cross = num_bd\n",
    "    ins = torch.rand(1, 2, k, k) * 2 - 1\n",
    "    ins = ins / torch.mean(torch.abs(ins))\n",
    "    noise_grid = (\n",
    "        F.upsample(ins, size=input_height, mode=\"bicubic\", align_corners=True)\n",
    "        .permute(0, 2, 3, 1)\n",
    "        .cuda()\n",
    "    )\n",
    "    array1d = torch.linspace(-1, 1, steps=input_height)\n",
    "    x, y = torch.meshgrid(array1d, array1d)\n",
    "    identity_grid = torch.stack((y, x), 2)[None, ...].cuda()\n",
    "\n",
    "    grid_temps = (identity_grid + s * noise_grid / input_height) * grid_rescale\n",
    "    grid_temps = torch.clamp(grid_temps, -1, 1)\n",
    "    transforms = PostTensorTransform().cuda()\n",
    "\n",
    "    ins = torch.rand(num_cross, input_height, input_height, 2).cuda() * 2 - 1\n",
    "    grid_temps2 = grid_temps.repeat(num_cross, 1, 1, 1) + ins / input_height\n",
    "    grid_temps2 = torch.clamp(grid_temps2, -1, 1)\n",
    "\n",
    "    inputs_bd = F.grid_sample(clean_img[:num_bd], grid_temps.repeat(num_bd, 1, 1, 1), align_corners=True)\n",
    "\n",
    "    inputs_cross = F.grid_sample(clean_img[num_bd : (num_bd + num_cross)], grid_temps2, align_corners=True)\n",
    "\n",
    "    total_inputs = torch.cat([inputs_bd, inputs_cross], dim=0)\n",
    "    backdoored_img = transforms(total_inputs)\n",
    "    return backdoored_img\n",
    "\n",
    "# 加载预训练的ResNet50模型并修改最后一层以适应二分类任务\n",
    "model = models.resnet50(pretrained=True)\n",
    "num_ftrs = model.fc.in_features\n",
    "model.fc = nn.Linear(num_ftrs, 2)  # 二分类\n",
    "model = model.cuda()  # 确保模型在CUDA设备上\n",
    "\n",
    "# 定义损失函数（虽然在测试中可能不需要，除非你想计算损失）\n",
    "criterion = nn.CrossEntropyLoss()\n",
    "\n",
    "def test_model(model, test_loader):\n",
    "    model.eval()  # 设置模型为评估模式\n",
    "    correct = 0\n",
    "    total = 0\n",
    "    test_loss = 0.0\n",
    "\n",
    "    with torch.no_grad():  # 在测试过程中不计算梯度\n",
    "        for clean_img, aug_img in tqdm(test_loader):\n",
    "            clean_img = clean_img.cuda()\n",
    "            aug_img = aug_img.cuda()\n",
    "            # 使用wanet函数处理clean_img\n",
    "            wanet_bd = wanet(clean_img)\n",
    "\n",
    "            # 准备输入数据：将wanet_bd和aug_img堆叠为一个批次\n",
    "            inputs = torch.cat([wanet_bd, aug_img], dim=0)  # 假设aug_img是适当的批次\n",
    "            # 准备标签：第一半是wanet_bd（标签0），第二半是aug_img（标签1）\n",
    "            labels = torch.cat([torch.zeros(wanet_bd.size(0)), torch.ones(aug_img.size(0))], dim=0).long()\n",
    "            inputs = inputs.cuda()\n",
    "            labels = labels.cuda()\n",
    "\n",
    "            outputs = model(inputs)\n",
    "            loss = criterion(outputs, labels)\n",
    "            test_loss += loss.item() * inputs.size(0)\n",
    "\n",
    "            _, predicted = torch.max(outputs.data, 1)\n",
    "            total += labels.size(0)\n",
    "            correct += (predicted == labels).sum().item()\n",
    "\n",
    "    avg_loss = test_loss / total\n",
    "    accuracy = 100 * correct / total\n",
    "    print(f'测试集平均损失: {avg_loss:.4f}, 准确率: {accuracy:.2f}%')\n",
    "\n",
    "from torch.nn.functional import softmax\n",
    "\n",
    "def test_model_with_metrics(model, test_loader):\n",
    "    model.eval()  # 设置模型为评估模式\n",
    "    correct = 0\n",
    "    total = 0\n",
    "    test_loss = 0.0\n",
    "    y_true = []\n",
    "    y_pred = []\n",
    "    y_score = []\n",
    "\n",
    "    with torch.no_grad():  # 在测试过程中不计算梯度\n",
    "        for clean_img, aug_img in tqdm(test_loader):\n",
    "            clean_img = clean_img.cuda()\n",
    "            aug_img = aug_img.cuda()\n",
    "            # 使用wanet函数处理clean_img\n",
    "            wanet_bd = wanet(clean_img)\n",
    "\n",
    "            # 准备输入数据和标签\n",
    "            inputs = torch.cat([wanet_bd, aug_img], dim=0)\n",
    "            labels = torch.cat([torch.zeros(wanet_bd.size(0)), torch.ones(aug_img.size(0))], dim=0).long()\n",
    "            inputs, labels = inputs.cuda(), labels.cuda()\n",
    "\n",
    "            outputs = model(inputs)\n",
    "            loss = criterion(outputs, labels)\n",
    "            test_loss += loss.item() * inputs.size(0)\n",
    "\n",
    "            _, predicted = torch.max(outputs, 1)\n",
    "            probs = softmax(outputs, dim=1)[:, 1]  # 获取正类的预测概率\n",
    "\n",
    "            # 更新统计信息\n",
    "            total += labels.size(0)\n",
    "            correct += (predicted == labels).sum().item()\n",
    "            y_true.extend(labels.cpu().numpy())\n",
    "            y_pred.extend(predicted.cpu().numpy())\n",
    "            y_score.extend(probs.cpu().numpy())\n",
    "\n",
    "    # 计算性能指标\n",
    "    avg_loss = test_loss / total\n",
    "    accuracy = 100 * correct / total\n",
    "    f1 = f1_score(y_true, y_pred)\n",
    "    auroc = roc_auc_score(y_true, y_score)\n",
    "\n",
    "    print(f'测试集平均损失: {avg_loss:.4f}, 准确率: {accuracy:.2f}%, F1得分: {f1:.4f}, AUROC: {auroc:.4f}')"
   ]
  },
  {
   "cell_type": "code",
   "execution_count": 18,
   "metadata": {},
   "outputs": [
    {
     "name": "stderr",
     "output_type": "stream",
     "text": [
      "  0%|          | 0/98 [00:00<?, ?it/s]/home/hrzhang/anaconda3/envs/badencoder/lib/python3.8/site-packages/torch/nn/functional.py:3737: UserWarning: nn.functional.upsample is deprecated. Use nn.functional.interpolate instead.\n",
      "  warnings.warn(\"nn.functional.upsample is deprecated. Use nn.functional.interpolate instead.\")\n",
      "100%|██████████| 98/98 [00:27<00:00,  3.56it/s]"
     ]
    },
    {
     "name": "stdout",
     "output_type": "stream",
     "text": [
      "测试集平均损失: 0.7913, 准确率: 45.81%, F1得分: 0.5387, AUROC: 0.4511\n"
     ]
    },
    {
     "name": "stderr",
     "output_type": "stream",
     "text": [
      "\n"
     ]
    }
   ],
   "source": [
    "train_loader,test_loader=dataloader('cifar10')\n",
    "test_model_with_metrics(model, train_loader)"
   ]
  },
  {
   "cell_type": "code",
   "execution_count": 21,
   "metadata": {},
   "outputs": [
    {
     "name": "stderr",
     "output_type": "stream",
     "text": [
      "100%|██████████| 10/10 [00:03<00:00,  3.17it/s]"
     ]
    },
    {
     "name": "stdout",
     "output_type": "stream",
     "text": [
      "测试集平均损失: 0.7849, 准确率: 46.41%, F1得分: 0.5450, AUROC: 0.4612\n"
     ]
    },
    {
     "name": "stderr",
     "output_type": "stream",
     "text": [
      "\n"
     ]
    }
   ],
   "source": [
    "train_loader,test_loader=dataloader('stl10')\n",
    "test_model_with_metrics(model, train_loader)"
   ]
  },
  {
   "cell_type": "code",
   "execution_count": 22,
   "metadata": {},
   "outputs": [
    {
     "name": "stderr",
     "output_type": "stream",
     "text": [
      "  0%|          | 0/144 [00:00<?, ?it/s]/home/hrzhang/anaconda3/envs/badencoder/lib/python3.8/site-packages/torch/nn/functional.py:3737: UserWarning: nn.functional.upsample is deprecated. Use nn.functional.interpolate instead.\n",
      "  warnings.warn(\"nn.functional.upsample is deprecated. Use nn.functional.interpolate instead.\")\n",
      "100%|██████████| 144/144 [00:40<00:00,  3.54it/s]\n"
     ]
    },
    {
     "name": "stdout",
     "output_type": "stream",
     "text": [
      "测试集平均损失: 0.7366, 准确率: 49.05%, F1得分: 0.5419, AUROC: 0.4900\n"
     ]
    }
   ],
   "source": [
    "train_loader,test_loader=dataloader('svhn')\n",
    "test_model_with_metrics(model, train_loader)"
   ]
  },
  {
   "cell_type": "code",
   "execution_count": 23,
   "metadata": {},
   "outputs": [
    {
     "name": "stderr",
     "output_type": "stream",
     "text": [
      "  0%|          | 0/77 [00:00<?, ?it/s]/home/hrzhang/anaconda3/envs/badencoder/lib/python3.8/site-packages/torch/nn/functional.py:3737: UserWarning: nn.functional.upsample is deprecated. Use nn.functional.interpolate instead.\n",
      "  warnings.warn(\"nn.functional.upsample is deprecated. Use nn.functional.interpolate instead.\")\n",
      "100%|██████████| 77/77 [00:22<00:00,  3.42it/s]\n"
     ]
    },
    {
     "name": "stdout",
     "output_type": "stream",
     "text": [
      "测试集平均损失: 0.7884, 准确率: 44.02%, F1得分: 0.5406, AUROC: 0.4122\n"
     ]
    }
   ],
   "source": [
    "train_loader,test_loader=dataloader('gtsrb')\n",
    "test_model_with_metrics(model, train_loader)"
   ]
  }
 ],
 "metadata": {
  "kernelspec": {
   "display_name": "badencoder",
   "language": "python",
   "name": "python3"
  },
  "language_info": {
   "codemirror_mode": {
    "name": "ipython",
    "version": 3
   },
   "file_extension": ".py",
   "mimetype": "text/x-python",
   "name": "python",
   "nbconvert_exporter": "python",
   "pygments_lexer": "ipython3",
   "version": "3.8.5"
  }
 },
 "nbformat": 4,
 "nbformat_minor": 2
}
