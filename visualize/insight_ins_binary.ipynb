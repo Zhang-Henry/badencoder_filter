{
 "cells": [
  {
   "cell_type": "code",
   "execution_count": 6,
   "metadata": {},
   "outputs": [],
   "source": [
    "import sys\n",
    "sys.path.append(\"..\")\n",
    "\n",
    "torch.cuda.set_device(0)\n",
    "\n",
    "import sys\n",
    "sys.path.append('../')\n",
    "from datasets.backdoor_dataset import *\n",
    "import numpy as np\n",
    "import torch\n",
    "from datasets.trans import *\n",
    "import argparse\n",
    "import pilgram\n",
    "\n",
    "test_transform_cifar10 = transforms.Compose([\n",
    "    transforms.ToTensor(),\n",
    "    transforms.Normalize([0.4914, 0.4822, 0.4465], [0.2023, 0.1994, 0.2010])\n",
    "    ])\n",
    "train_transform = transforms.Compose([\n",
    "    transforms.RandomResizedCrop(32),\n",
    "    transforms.RandomHorizontalFlip(p=0.5),\n",
    "    transforms.RandomApply([transforms.ColorJitter(0.4, 0.4, 0.4, 0.1)], p=0.8),\n",
    "    transforms.RandomGrayscale(p=0.2),\n",
    "    transforms.ToTensor(),\n",
    "    transforms.Normalize([0.4914, 0.4822, 0.4465], [0.2023, 0.1994, 0.2010])\n",
    "    ])\n",
    "\n",
    "class BadEncoderBackdoor(Dataset):\n",
    "\n",
    "    def __init__(self, numpy_file, aug_transform=None, clean_transform=None):\n",
    "        \"\"\"\n",
    "        Args:\n",
    "            numpy_file (string): Path to the numpy file.\n",
    "            transform (callable, optional): Optional transform to be applied\n",
    "                on a sample.\n",
    "        \"\"\"\n",
    "        self.input_array = np.load(numpy_file)\n",
    "        self.data = self.input_array['x']\n",
    "        self.targets = self.input_array['y']\n",
    "\n",
    "\n",
    "        self.test_transform = clean_transform\n",
    "        self.aug_transform = aug_transform\n",
    "\n",
    "\n",
    "    def __getitem__(self,index):\n",
    "        img = copy.deepcopy(self.data[index])\n",
    "\n",
    "        ########################\n",
    "        img_ = Image.fromarray(img)\n",
    "        img_clean_aug = self.aug_transform(img_)\n",
    "\n",
    "        ###########################\n",
    "        ### for ins filter only ###\n",
    "\n",
    "        image_pil = Image.fromarray(img)\n",
    "        filtered_image_pil = pilgram.xpro2(image_pil)\n",
    "        img_backdoor_ins =self.test_transform(filtered_image_pil)\n",
    "\n",
    "        ###########################\n",
    "\n",
    "        # img[:] =img * self.trigger_mask_list[0] + self.trigger_patch_list[0][:]\n",
    "        # img_backdoor_patch =self.test_transform(Image.fromarray(img))\n",
    "\n",
    "\n",
    "\n",
    "        return img_clean_aug, img_backdoor_ins\n",
    "\n",
    "    def __len__(self):\n",
    "        return self.data.shape[0]\n",
    "\n",
    "\n"
   ]
  },
  {
   "cell_type": "code",
   "execution_count": 10,
   "metadata": {},
   "outputs": [],
   "source": [
    "import torch.nn.functional as F\n",
    "\n",
    "\n",
    "import torchvision.models as models\n",
    "import torch.nn as nn\n",
    "from tqdm import tqdm\n",
    "from sklearn.metrics import f1_score, roc_auc_score\n",
    "\n",
    "# 加载预训练的ResNet50模型并修改最后一层以适应二分类任务\n",
    "model = models.resnet50(pretrained=True)\n",
    "num_ftrs = model.fc.in_features\n",
    "model.fc = nn.Linear(num_ftrs, 2)  # 二分类\n",
    "model = model.cuda()  # 确保模型在CUDA设备上\n",
    "\n",
    "\n",
    "from torch.nn.functional import softmax\n",
    "\n",
    "\n",
    "def test_model_with_metrics(model, test_loader):\n",
    "    model.eval()  # 设置模型为评估模式\n",
    "    correct = 0\n",
    "    total = 0\n",
    "    test_loss = 0.0\n",
    "    y_true = []\n",
    "    y_pred = []\n",
    "    y_score = []\n",
    "\n",
    "    with torch.no_grad():  # 在测试过程中不计算梯度\n",
    "        for img_clean_aug, img_backdoor_ins in tqdm(test_loader):\n",
    "            img_clean_aug = img_clean_aug.cuda()\n",
    "            img_backdoor_ins = img_backdoor_ins.cuda()\n",
    "\n",
    "            # 准备输入数据和标签\n",
    "            inputs = torch.cat([img_clean_aug, img_backdoor_ins], dim=0)\n",
    "            labels = torch.cat([torch.zeros(img_clean_aug.size(0)), torch.ones(img_backdoor_ins.size(0))], dim=0).long()\n",
    "            inputs, labels = inputs.cuda(), labels.cuda()\n",
    "\n",
    "            outputs = model(inputs)\n",
    "\n",
    "\n",
    "            _, predicted = torch.max(outputs, 1)\n",
    "            probs = softmax(outputs, dim=1)[:, 1]  # 获取正类的预测概率\n",
    "\n",
    "            # 更新统计信息\n",
    "            total += labels.size(0)\n",
    "            correct += (predicted == labels).sum().item()\n",
    "            y_true.extend(labels.cpu().numpy())\n",
    "            y_pred.extend(predicted.cpu().numpy())\n",
    "            y_score.extend(probs.cpu().numpy())\n",
    "\n",
    "    accuracy = 100 * correct / total\n",
    "    f1 = f1_score(y_true, y_pred)\n",
    "    auroc = roc_auc_score(y_true, y_score)\n",
    "\n",
    "    print(f'准确率: {accuracy:.2f}%, F1得分: {f1:.4f}, AUROC: {auroc:.4f}')"
   ]
  },
  {
   "cell_type": "code",
   "execution_count": 16,
   "metadata": {},
   "outputs": [
    {
     "name": "stderr",
     "output_type": "stream",
     "text": [
      "100%|██████████| 98/98 [01:33<00:00,  1.05it/s]"
     ]
    },
    {
     "name": "stdout",
     "output_type": "stream",
     "text": [
      "准确率: 54.48%, F1得分: 0.4545, AUROC: 0.5768\n"
     ]
    },
    {
     "name": "stderr",
     "output_type": "stream",
     "text": [
      "\n"
     ]
    }
   ],
   "source": [
    "test_data_backdoor = BadEncoderBackdoor(numpy_file='../data/cifar10/train.npz', aug_transform=train_transform,clean_transform=test_transform_cifar10)\n",
    "test_data_bd_dl = DataLoader(test_data_backdoor, batch_size=512, shuffle=True, num_workers=2)\n",
    "test_model_with_metrics(model, test_data_bd_dl)"
   ]
  },
  {
   "cell_type": "code",
   "execution_count": 17,
   "metadata": {},
   "outputs": [
    {
     "name": "stderr",
     "output_type": "stream",
     "text": [
      "  0%|          | 0/10 [00:00<?, ?it/s]"
     ]
    },
    {
     "name": "stderr",
     "output_type": "stream",
     "text": [
      "100%|██████████| 10/10 [00:11<00:00,  1.16s/it]"
     ]
    },
    {
     "name": "stdout",
     "output_type": "stream",
     "text": [
      "准确率: 56.57%, F1得分: 0.4886, AUROC: 0.6096\n"
     ]
    },
    {
     "name": "stderr",
     "output_type": "stream",
     "text": [
      "\n"
     ]
    }
   ],
   "source": [
    "test_data_backdoor = BadEncoderBackdoor(numpy_file='../data/stl10/train.npz', aug_transform=train_transform,clean_transform=test_transform_cifar10)\n",
    "test_data_bd_dl = DataLoader(test_data_backdoor, batch_size=512, shuffle=True, num_workers=2)\n",
    "test_model_with_metrics(model, test_data_bd_dl)"
   ]
  },
  {
   "cell_type": "code",
   "execution_count": 14,
   "metadata": {},
   "outputs": [
    {
     "name": "stderr",
     "output_type": "stream",
     "text": [
      "100%|██████████| 144/144 [02:26<00:00,  1.02s/it]\n"
     ]
    },
    {
     "name": "stdout",
     "output_type": "stream",
     "text": [
      "准确率: 51.94%, F1得分: 0.3858, AUROC: 0.5586\n"
     ]
    }
   ],
   "source": [
    "test_data_backdoor = BadEncoderBackdoor(numpy_file='../data/svhn/train.npz', aug_transform=train_transform,clean_transform=test_transform_cifar10)\n",
    "test_data_bd_dl = DataLoader(test_data_backdoor, batch_size=512, shuffle=True, num_workers=2)\n",
    "test_model_with_metrics(model, test_data_bd_dl)"
   ]
  },
  {
   "cell_type": "code",
   "execution_count": 18,
   "metadata": {},
   "outputs": [
    {
     "name": "stderr",
     "output_type": "stream",
     "text": [
      "100%|██████████| 77/77 [01:15<00:00,  1.02it/s]"
     ]
    },
    {
     "name": "stdout",
     "output_type": "stream",
     "text": [
      "准确率: 59.22%, F1得分: 0.5441, AUROC: 0.6379\n"
     ]
    },
    {
     "name": "stderr",
     "output_type": "stream",
     "text": [
      "\n"
     ]
    }
   ],
   "source": [
    "test_data_backdoor = BadEncoderBackdoor(numpy_file='../data/gtsrb/train.npz', aug_transform=train_transform,clean_transform=test_transform_cifar10)\n",
    "test_data_bd_dl = DataLoader(test_data_backdoor, batch_size=512, shuffle=True, num_workers=2)\n",
    "test_model_with_metrics(model, test_data_bd_dl)"
   ]
  }
 ],
 "metadata": {
  "kernelspec": {
   "display_name": "badencoder",
   "language": "python",
   "name": "python3"
  },
  "language_info": {
   "codemirror_mode": {
    "name": "ipython",
    "version": 3
   },
   "file_extension": ".py",
   "mimetype": "text/x-python",
   "name": "python",
   "nbconvert_exporter": "python",
   "pygments_lexer": "ipython3",
   "version": "3.8.5"
  }
 },
 "nbformat": 4,
 "nbformat_minor": 2
}
