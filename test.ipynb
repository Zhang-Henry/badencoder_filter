{
 "cells": [
  {
   "cell_type": "code",
   "execution_count": 2,
   "metadata": {},
   "outputs": [],
   "source": [
    "from torchvision.transforms import Compose, Resize, ToTensor\n",
    "from torch.utils.data import Dataset\n",
    "import os\n",
    "from PIL import Image\n",
    "\n",
    "class CustomDataset(Dataset):\n",
    "    def __init__(self, directory, transform=None):\n",
    "        self.transform = transform\n",
    "        self.images = []\n",
    "        self.labels = []\n",
    "        for filename in os.listdir(directory):\n",
    "            if filename.endswith('.jpeg'):\n",
    "                self.images.append(os.path.join(directory, filename))\n",
    "\n",
    "\n",
    "    def __len__(self):\n",
    "        return len(self.images)\n",
    "\n",
    "    def __getitem__(self, idx):\n",
    "        image = Image.open(self.images[idx])\n",
    "        if self.transform:\n",
    "            image = self.transform(image)\n",
    "        return image\n",
    "\n",
    "# Use the transform while creating the dataset\n",
    "transform = Compose([\n",
    "    Resize((224, 224)),  # Resize the image to 224x224 pixels\n",
    "    ToTensor(),  # Convert the image to PyTorch Tensor data type\n",
    "])\n",
    "\n",
    "dataset = CustomDataset('data/gtsrb/test_224', transform=transform)"
   ]
  },
  {
   "cell_type": "code",
   "execution_count": 6,
   "metadata": {},
   "outputs": [
    {
     "data": {
      "text/plain": [
       "torch.Size([3, 224, 224])"
      ]
     },
     "execution_count": 6,
     "metadata": {},
     "output_type": "execute_result"
    }
   ],
   "source": [
    "dataset[2].shape"
   ]
  },
  {
   "cell_type": "code",
   "execution_count": 1,
   "metadata": {},
   "outputs": [
    {
     "name": "stdout",
     "output_type": "stream",
     "text": [
      "Combined dataset: mean = [nan nan nan], std = [nan nan nan]\n"
     ]
    },
    {
     "name": "stderr",
     "output_type": "stream",
     "text": [
      "/tmp/ipykernel_1443649/2205030506.py:20: RuntimeWarning: invalid value encountered in divide\n",
      "  mean = sum_image / num_images\n",
      "/tmp/ipykernel_1443649/2205030506.py:21: RuntimeWarning: invalid value encountered in divide\n",
      "  std = np.sqrt(sum_squared_image / num_images - mean ** 2)\n"
     ]
    }
   ],
   "source": [
    "import numpy as np\n",
    "import os\n",
    "from PIL import Image\n",
    "from torchvision.transforms import Compose, Resize, ToTensor\n",
    "def compute_mean_std_per_channel(directories):\n",
    "    num_images = 0\n",
    "    sum_image = np.zeros(3)\n",
    "    sum_squared_image = np.zeros(3)\n",
    "\n",
    "    for directory in directories:\n",
    "        for filename in os.listdir(directory):\n",
    "            if filename.endswith('.jpeg') or filename.endswith('.JPEG'):\n",
    "                image = Image.open(os.path.join(directory, filename))\n",
    "                image = ToTensor()(image)\n",
    "                for i in range(3):  # Loop over the 3 color channels\n",
    "                    sum_image[i] += image[i, :, :].mean()\n",
    "                    sum_squared_image[i] += image[i, :, :].std()\n",
    "                num_images += 1\n",
    "\n",
    "    mean = sum_image / num_images\n",
    "    std = np.sqrt(sum_squared_image / num_images - mean ** 2)\n",
    "\n",
    "    return mean, std\n",
    "\n",
    "# Compute mean and std for the combined datasets\n",
    "mean, std = compute_mean_std_per_channel(['data/imagenet/train'])\n",
    "\n",
    "print(f'Combined dataset: mean = {mean}, std = {std}')"
   ]
  },
  {
   "cell_type": "code",
   "execution_count": 1,
   "metadata": {},
   "outputs": [
    {
     "name": "stdout",
     "output_type": "stream",
     "text": [
      "mean: tensor([0.3389, 0.3117, 0.3204])\n",
      "std: tensor([0.2708, 0.2588, 0.2618])\n"
     ]
    }
   ],
   "source": [
    "import os\n",
    "import glob\n",
    "from PIL import Image\n",
    "import numpy as np\n",
    "import torchvision.transforms as transforms\n",
    "import torch\n",
    "# 创建一个将图像转换为张量的转换\n",
    "transform = transforms.ToTensor()\n",
    "\n",
    "# 获取所有JPEG图像的路径\n",
    "image_files = glob.glob(os.path.join('data/gtsrb/train', '*.[jJ][pP][eE][gG]'))\n",
    "\n",
    "# 初始化列表以保存所有图像的张量\n",
    "images = []\n",
    "\n",
    "for image_file in image_files:\n",
    "    # 打开图像并转换为张量\n",
    "    image = Image.open(image_file)\n",
    "    image_tensor = transform(image)\n",
    "    images.append(image_tensor)\n",
    "\n",
    "# 将所有图像张量堆叠到一个张量中\n",
    "images = torch.stack(images)\n",
    "\n",
    "# 计算mean和std\n",
    "mean = images.mean([0, 2, 3])\n",
    "std = images.std([0, 2, 3])\n",
    "\n",
    "print('mean:', mean)\n",
    "print('std:', std)"
   ]
  },
  {
   "cell_type": "code",
   "execution_count": 2,
   "metadata": {},
   "outputs": [],
   "source": [
    "import os\n",
    "import random\n",
    "from shutil import copyfile, rmtree\n",
    "\n",
    "def select_quarter_images(directory, output_directory):\n",
    "    # Create a dictionary to hold the images for each class\n",
    "    class_images = {}\n",
    "\n",
    "    # Loop over all files in the directory\n",
    "    for filename in os.listdir(directory):\n",
    "        if filename.endswith('.jpeg'):\n",
    "            # Extract class from filename\n",
    "            class_label = int(filename.split('_')[3].replace('.jpeg', '')[1:-1])\n",
    "            # Add image to the list for this class\n",
    "            class_images.setdefault(class_label, []).append(filename)\n",
    "\n",
    "    # Select a quarter of the images for each class\n",
    "    for class_label, images in class_images.items():\n",
    "        selected_images = random.sample(images, len(images) // 5)\n",
    "        # Copy selected images to output directory\n",
    "        for image in selected_images:\n",
    "            copyfile(os.path.join(directory, image), os.path.join(output_directory, image))\n",
    "\n",
    "rmtree('data/gtsrb/selected_train_224', ignore_errors=True)\n",
    "rmtree('data/stl10/selected_train_224', ignore_errors=True)\n",
    "rmtree('data/svhn/selected_train_224', ignore_errors=True)\n",
    "\n",
    "os.makedirs('data/gtsrb/selected_train_224', exist_ok=True)\n",
    "os.makedirs('data/stl10/selected_train_224', exist_ok=True)\n",
    "os.makedirs('data/svhn/selected_train_224', exist_ok=True)\n",
    "# Select a quarter of the images from each class\n",
    "\n",
    "select_quarter_images('data/gtsrb/train_224', 'data/gtsrb/selected_train_224')\n",
    "select_quarter_images('data/stl10/train_224', 'data/stl10/selected_train_224')\n",
    "select_quarter_images('data/svhn/train_224', 'data/svhn/selected_train_224')"
   ]
  },
  {
   "cell_type": "code",
   "execution_count": 6,
   "metadata": {},
   "outputs": [
    {
     "data": {
      "text/plain": [
       "(105000, 32, 32, 3)"
      ]
     },
     "execution_count": 6,
     "metadata": {},
     "output_type": "execute_result"
    }
   ],
   "source": [
    "import numpy as np\n",
    "input=np.load('data/stl10/train_unlabeled.npz')\n",
    "input['x'].shape"
   ]
  },
  {
   "cell_type": "code",
   "execution_count": 10,
   "metadata": {},
   "outputs": [
    {
     "data": {
      "text/plain": [
       "(5000, 1)"
      ]
     },
     "execution_count": 10,
     "metadata": {},
     "output_type": "execute_result"
    }
   ],
   "source": [
    "input['y'].shape"
   ]
  },
  {
   "cell_type": "code",
   "execution_count": 8,
   "metadata": {},
   "outputs": [
    {
     "data": {
      "text/plain": [
       "(5000, 32, 32, 3)"
      ]
     },
     "execution_count": 8,
     "metadata": {},
     "output_type": "execute_result"
    }
   ],
   "source": [
    "input=np.load('data/stl10/train.npz')\n",
    "input['x'].shape"
   ]
  },
  {
   "cell_type": "code",
   "execution_count": null,
   "metadata": {},
   "outputs": [],
   "source": []
  }
 ],
 "metadata": {
  "kernelspec": {
   "display_name": "badencoder",
   "language": "python",
   "name": "python3"
  },
  "language_info": {
   "codemirror_mode": {
    "name": "ipython",
    "version": 3
   },
   "file_extension": ".py",
   "mimetype": "text/x-python",
   "name": "python",
   "nbconvert_exporter": "python",
   "pygments_lexer": "ipython3",
   "version": "3.8.5"
  }
 },
 "nbformat": 4,
 "nbformat_minor": 2
}
