{
 "cells": [
  {
   "cell_type": "code",
   "execution_count": 3,
   "metadata": {},
   "outputs": [
    {
     "name": "stdout",
     "output_type": "stream",
     "text": [
      "[0.014396658, 0.013188518, 0.011612503] [0.008825013, 0.00849505, 0.008555203]\n"
     ]
    },
    {
     "ename": "",
     "evalue": "",
     "output_type": "error",
     "traceback": [
      "\u001b[1;31mThe Kernel crashed while executing code in the the current cell or a previous cell. Please review the code in the cell(s) to identify a possible cause of the failure. Click <a href='https://aka.ms/vscodeJupyterKernelCrash'>here</a> for more info. View Jupyter <a href='command:jupyter.viewOutput'>log</a> for further details."
     ]
    }
   ],
   "source": [
    "from torchvision import transforms\n",
    "import moco.loader as loader\n",
    "import moco.dataset as dataset\n",
    "import torch\n",
    "import numpy as np#用于将张量转化为数组，进行除法\n",
    "\n",
    "\n",
    "trans=transforms.Compose([\n",
    "    transforms.CenterCrop(224),\n",
    "    transforms.ToTensor(),\n",
    "    ])\n",
    "\n",
    "train_dataset = dataset.FileListDataset(\n",
    "    '/home/hrzhang/projects/SSL-Backdoor/poison-generation/data/clean/train/clean_filelist_5subset.txt',\n",
    "    trans,trans)\n",
    "\n",
    "train_sampler = None\n",
    "\n",
    "train_loader = torch.utils.data.DataLoader(\n",
    "    train_dataset, batch_size=32, shuffle=(train_sampler is None),\n",
    "    num_workers=2, pin_memory=True, sampler=train_sampler, drop_last=True)\n",
    "\n",
    "mean = torch.zeros(3)\n",
    "std = torch.zeros(3)\n",
    "for X in train_loader:\n",
    "    for d in range(3):\n",
    "        mean[d] += X[:, d, :, :].mean()\n",
    "        std[d] += X[:, d, :, :].std()\n",
    "mean.div_(len(train_dataset))\n",
    "std.div_(len(train_dataset))\n",
    "print(list(mean.numpy()), list(std.numpy()))"
   ]
  }
 ],
 "metadata": {
  "kernelspec": {
   "display_name": "ssl-attack",
   "language": "python",
   "name": "python3"
  },
  "language_info": {
   "codemirror_mode": {
    "name": "ipython",
    "version": 3
   },
   "file_extension": ".py",
   "mimetype": "text/x-python",
   "name": "python",
   "nbconvert_exporter": "python",
   "pygments_lexer": "ipython3",
   "version": "3.8.17"
  }
 },
 "nbformat": 4,
 "nbformat_minor": 2
}
